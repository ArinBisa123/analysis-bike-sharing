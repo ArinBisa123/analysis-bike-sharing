{
 "cells": [
  {
   "cell_type": "markdown",
   "metadata": {
    "id": "H9wADwK78DCz"
   },
   "source": [
    "# Proyek Analisis Data: Bike Sharing Dataset\n",
    "- **Nama:** Arrini Khirofati Jannah\n",
    "- **Email:** leejindairy06@gmail.com\n",
    "- **ID Dicoding:** 123limitless"
   ]
  },
  {
   "cell_type": "markdown",
   "metadata": {
    "id": "eE0raob58DC0"
   },
   "source": [
    "## Menentukan Pertanyaan Bisnis"
   ]
  },
  {
   "cell_type": "markdown",
   "metadata": {
    "id": "GmQeQ5YF8DC0"
   },
   "source": [
    "- Bagaimanakah hubungan suhu(temp), suhu yang dirasakan(atemp), kelembaban, dan kecepatan angin terhadap jumlah pengguna bike sharing?\n",
    "- Bagaimanakah hubungan waktu (hr) terhadap jumlah pengguna bike sharing?"
   ]
  },
  {
   "cell_type": "markdown",
   "metadata": {
    "id": "H-z4QGlO8DC1"
   },
   "source": [
    "## Import Semua Packages/Library yang Digunakan"
   ]
  },
  {
   "cell_type": "code",
   "execution_count": 1,
   "metadata": {
    "id": "FVYwaObI8DC1"
   },
   "outputs": [],
   "source": [
    "import numpy as np\n",
    "import pandas as pd\n",
    "import matplotlib.pyplot as plt\n",
    "import seaborn as sns"
   ]
  },
  {
   "cell_type": "markdown",
   "metadata": {
    "id": "h_Sh51Xy8DC1"
   },
   "source": [
    "## Data Wrangling"
   ]
  },
  {
   "cell_type": "markdown",
   "metadata": {
    "id": "sXU2GBYu8DC1"
   },
   "source": [
    "### Gathering Data"
   ]
  },
  {
   "cell_type": "code",
   "execution_count": 3,
   "metadata": {
    "colab": {
     "base_uri": "https://localhost:8080/",
     "height": 206
    },
    "id": "zjCBk1BI8DC1",
    "outputId": "a6b0bb11-6cc4-4353-cf10-00d8c70371a3"
   },
   "outputs": [
    {
     "ename": "FileNotFoundError",
     "evalue": "[Errno 2] No such file or directory: '/data/day.csv'",
     "output_type": "error",
     "traceback": [
      "\u001b[31m---------------------------------------------------------------------------\u001b[39m",
      "\u001b[31mFileNotFoundError\u001b[39m                         Traceback (most recent call last)",
      "\u001b[36mCell\u001b[39m\u001b[36m \u001b[39m\u001b[32mIn[3]\u001b[39m\u001b[32m, line 1\u001b[39m\n\u001b[32m----> \u001b[39m\u001b[32m1\u001b[39m bike_sharing_day_df = \u001b[43mpd\u001b[49m\u001b[43m.\u001b[49m\u001b[43mread_csv\u001b[49m\u001b[43m(\u001b[49m\u001b[33;43m\"\u001b[39;49m\u001b[33;43m/data/day.csv\u001b[39;49m\u001b[33;43m\"\u001b[39;49m\u001b[43m)\u001b[49m\n\u001b[32m      2\u001b[39m bike_sharing_day_df.head()\n",
      "\u001b[36mFile \u001b[39m\u001b[32m~\\AppData\\Local\\Programs\\Python\\Python313\\Lib\\site-packages\\pandas\\io\\parsers\\readers.py:1026\u001b[39m, in \u001b[36mread_csv\u001b[39m\u001b[34m(filepath_or_buffer, sep, delimiter, header, names, index_col, usecols, dtype, engine, converters, true_values, false_values, skipinitialspace, skiprows, skipfooter, nrows, na_values, keep_default_na, na_filter, verbose, skip_blank_lines, parse_dates, infer_datetime_format, keep_date_col, date_parser, date_format, dayfirst, cache_dates, iterator, chunksize, compression, thousands, decimal, lineterminator, quotechar, quoting, doublequote, escapechar, comment, encoding, encoding_errors, dialect, on_bad_lines, delim_whitespace, low_memory, memory_map, float_precision, storage_options, dtype_backend)\u001b[39m\n\u001b[32m   1013\u001b[39m kwds_defaults = _refine_defaults_read(\n\u001b[32m   1014\u001b[39m     dialect,\n\u001b[32m   1015\u001b[39m     delimiter,\n\u001b[32m   (...)\u001b[39m\u001b[32m   1022\u001b[39m     dtype_backend=dtype_backend,\n\u001b[32m   1023\u001b[39m )\n\u001b[32m   1024\u001b[39m kwds.update(kwds_defaults)\n\u001b[32m-> \u001b[39m\u001b[32m1026\u001b[39m \u001b[38;5;28;01mreturn\u001b[39;00m \u001b[43m_read\u001b[49m\u001b[43m(\u001b[49m\u001b[43mfilepath_or_buffer\u001b[49m\u001b[43m,\u001b[49m\u001b[43m \u001b[49m\u001b[43mkwds\u001b[49m\u001b[43m)\u001b[49m\n",
      "\u001b[36mFile \u001b[39m\u001b[32m~\\AppData\\Local\\Programs\\Python\\Python313\\Lib\\site-packages\\pandas\\io\\parsers\\readers.py:620\u001b[39m, in \u001b[36m_read\u001b[39m\u001b[34m(filepath_or_buffer, kwds)\u001b[39m\n\u001b[32m    617\u001b[39m _validate_names(kwds.get(\u001b[33m\"\u001b[39m\u001b[33mnames\u001b[39m\u001b[33m\"\u001b[39m, \u001b[38;5;28;01mNone\u001b[39;00m))\n\u001b[32m    619\u001b[39m \u001b[38;5;66;03m# Create the parser.\u001b[39;00m\n\u001b[32m--> \u001b[39m\u001b[32m620\u001b[39m parser = \u001b[43mTextFileReader\u001b[49m\u001b[43m(\u001b[49m\u001b[43mfilepath_or_buffer\u001b[49m\u001b[43m,\u001b[49m\u001b[43m \u001b[49m\u001b[43m*\u001b[49m\u001b[43m*\u001b[49m\u001b[43mkwds\u001b[49m\u001b[43m)\u001b[49m\n\u001b[32m    622\u001b[39m \u001b[38;5;28;01mif\u001b[39;00m chunksize \u001b[38;5;129;01mor\u001b[39;00m iterator:\n\u001b[32m    623\u001b[39m     \u001b[38;5;28;01mreturn\u001b[39;00m parser\n",
      "\u001b[36mFile \u001b[39m\u001b[32m~\\AppData\\Local\\Programs\\Python\\Python313\\Lib\\site-packages\\pandas\\io\\parsers\\readers.py:1620\u001b[39m, in \u001b[36mTextFileReader.__init__\u001b[39m\u001b[34m(self, f, engine, **kwds)\u001b[39m\n\u001b[32m   1617\u001b[39m     \u001b[38;5;28mself\u001b[39m.options[\u001b[33m\"\u001b[39m\u001b[33mhas_index_names\u001b[39m\u001b[33m\"\u001b[39m] = kwds[\u001b[33m\"\u001b[39m\u001b[33mhas_index_names\u001b[39m\u001b[33m\"\u001b[39m]\n\u001b[32m   1619\u001b[39m \u001b[38;5;28mself\u001b[39m.handles: IOHandles | \u001b[38;5;28;01mNone\u001b[39;00m = \u001b[38;5;28;01mNone\u001b[39;00m\n\u001b[32m-> \u001b[39m\u001b[32m1620\u001b[39m \u001b[38;5;28mself\u001b[39m._engine = \u001b[38;5;28;43mself\u001b[39;49m\u001b[43m.\u001b[49m\u001b[43m_make_engine\u001b[49m\u001b[43m(\u001b[49m\u001b[43mf\u001b[49m\u001b[43m,\u001b[49m\u001b[43m \u001b[49m\u001b[38;5;28;43mself\u001b[39;49m\u001b[43m.\u001b[49m\u001b[43mengine\u001b[49m\u001b[43m)\u001b[49m\n",
      "\u001b[36mFile \u001b[39m\u001b[32m~\\AppData\\Local\\Programs\\Python\\Python313\\Lib\\site-packages\\pandas\\io\\parsers\\readers.py:1880\u001b[39m, in \u001b[36mTextFileReader._make_engine\u001b[39m\u001b[34m(self, f, engine)\u001b[39m\n\u001b[32m   1878\u001b[39m     \u001b[38;5;28;01mif\u001b[39;00m \u001b[33m\"\u001b[39m\u001b[33mb\u001b[39m\u001b[33m\"\u001b[39m \u001b[38;5;129;01mnot\u001b[39;00m \u001b[38;5;129;01min\u001b[39;00m mode:\n\u001b[32m   1879\u001b[39m         mode += \u001b[33m\"\u001b[39m\u001b[33mb\u001b[39m\u001b[33m\"\u001b[39m\n\u001b[32m-> \u001b[39m\u001b[32m1880\u001b[39m \u001b[38;5;28mself\u001b[39m.handles = \u001b[43mget_handle\u001b[49m\u001b[43m(\u001b[49m\n\u001b[32m   1881\u001b[39m \u001b[43m    \u001b[49m\u001b[43mf\u001b[49m\u001b[43m,\u001b[49m\n\u001b[32m   1882\u001b[39m \u001b[43m    \u001b[49m\u001b[43mmode\u001b[49m\u001b[43m,\u001b[49m\n\u001b[32m   1883\u001b[39m \u001b[43m    \u001b[49m\u001b[43mencoding\u001b[49m\u001b[43m=\u001b[49m\u001b[38;5;28;43mself\u001b[39;49m\u001b[43m.\u001b[49m\u001b[43moptions\u001b[49m\u001b[43m.\u001b[49m\u001b[43mget\u001b[49m\u001b[43m(\u001b[49m\u001b[33;43m\"\u001b[39;49m\u001b[33;43mencoding\u001b[39;49m\u001b[33;43m\"\u001b[39;49m\u001b[43m,\u001b[49m\u001b[43m \u001b[49m\u001b[38;5;28;43;01mNone\u001b[39;49;00m\u001b[43m)\u001b[49m\u001b[43m,\u001b[49m\n\u001b[32m   1884\u001b[39m \u001b[43m    \u001b[49m\u001b[43mcompression\u001b[49m\u001b[43m=\u001b[49m\u001b[38;5;28;43mself\u001b[39;49m\u001b[43m.\u001b[49m\u001b[43moptions\u001b[49m\u001b[43m.\u001b[49m\u001b[43mget\u001b[49m\u001b[43m(\u001b[49m\u001b[33;43m\"\u001b[39;49m\u001b[33;43mcompression\u001b[39;49m\u001b[33;43m\"\u001b[39;49m\u001b[43m,\u001b[49m\u001b[43m \u001b[49m\u001b[38;5;28;43;01mNone\u001b[39;49;00m\u001b[43m)\u001b[49m\u001b[43m,\u001b[49m\n\u001b[32m   1885\u001b[39m \u001b[43m    \u001b[49m\u001b[43mmemory_map\u001b[49m\u001b[43m=\u001b[49m\u001b[38;5;28;43mself\u001b[39;49m\u001b[43m.\u001b[49m\u001b[43moptions\u001b[49m\u001b[43m.\u001b[49m\u001b[43mget\u001b[49m\u001b[43m(\u001b[49m\u001b[33;43m\"\u001b[39;49m\u001b[33;43mmemory_map\u001b[39;49m\u001b[33;43m\"\u001b[39;49m\u001b[43m,\u001b[49m\u001b[43m \u001b[49m\u001b[38;5;28;43;01mFalse\u001b[39;49;00m\u001b[43m)\u001b[49m\u001b[43m,\u001b[49m\n\u001b[32m   1886\u001b[39m \u001b[43m    \u001b[49m\u001b[43mis_text\u001b[49m\u001b[43m=\u001b[49m\u001b[43mis_text\u001b[49m\u001b[43m,\u001b[49m\n\u001b[32m   1887\u001b[39m \u001b[43m    \u001b[49m\u001b[43merrors\u001b[49m\u001b[43m=\u001b[49m\u001b[38;5;28;43mself\u001b[39;49m\u001b[43m.\u001b[49m\u001b[43moptions\u001b[49m\u001b[43m.\u001b[49m\u001b[43mget\u001b[49m\u001b[43m(\u001b[49m\u001b[33;43m\"\u001b[39;49m\u001b[33;43mencoding_errors\u001b[39;49m\u001b[33;43m\"\u001b[39;49m\u001b[43m,\u001b[49m\u001b[43m \u001b[49m\u001b[33;43m\"\u001b[39;49m\u001b[33;43mstrict\u001b[39;49m\u001b[33;43m\"\u001b[39;49m\u001b[43m)\u001b[49m\u001b[43m,\u001b[49m\n\u001b[32m   1888\u001b[39m \u001b[43m    \u001b[49m\u001b[43mstorage_options\u001b[49m\u001b[43m=\u001b[49m\u001b[38;5;28;43mself\u001b[39;49m\u001b[43m.\u001b[49m\u001b[43moptions\u001b[49m\u001b[43m.\u001b[49m\u001b[43mget\u001b[49m\u001b[43m(\u001b[49m\u001b[33;43m\"\u001b[39;49m\u001b[33;43mstorage_options\u001b[39;49m\u001b[33;43m\"\u001b[39;49m\u001b[43m,\u001b[49m\u001b[43m \u001b[49m\u001b[38;5;28;43;01mNone\u001b[39;49;00m\u001b[43m)\u001b[49m\u001b[43m,\u001b[49m\n\u001b[32m   1889\u001b[39m \u001b[43m\u001b[49m\u001b[43m)\u001b[49m\n\u001b[32m   1890\u001b[39m \u001b[38;5;28;01massert\u001b[39;00m \u001b[38;5;28mself\u001b[39m.handles \u001b[38;5;129;01mis\u001b[39;00m \u001b[38;5;129;01mnot\u001b[39;00m \u001b[38;5;28;01mNone\u001b[39;00m\n\u001b[32m   1891\u001b[39m f = \u001b[38;5;28mself\u001b[39m.handles.handle\n",
      "\u001b[36mFile \u001b[39m\u001b[32m~\\AppData\\Local\\Programs\\Python\\Python313\\Lib\\site-packages\\pandas\\io\\common.py:873\u001b[39m, in \u001b[36mget_handle\u001b[39m\u001b[34m(path_or_buf, mode, encoding, compression, memory_map, is_text, errors, storage_options)\u001b[39m\n\u001b[32m    868\u001b[39m \u001b[38;5;28;01melif\u001b[39;00m \u001b[38;5;28misinstance\u001b[39m(handle, \u001b[38;5;28mstr\u001b[39m):\n\u001b[32m    869\u001b[39m     \u001b[38;5;66;03m# Check whether the filename is to be opened in binary mode.\u001b[39;00m\n\u001b[32m    870\u001b[39m     \u001b[38;5;66;03m# Binary mode does not support 'encoding' and 'newline'.\u001b[39;00m\n\u001b[32m    871\u001b[39m     \u001b[38;5;28;01mif\u001b[39;00m ioargs.encoding \u001b[38;5;129;01mand\u001b[39;00m \u001b[33m\"\u001b[39m\u001b[33mb\u001b[39m\u001b[33m\"\u001b[39m \u001b[38;5;129;01mnot\u001b[39;00m \u001b[38;5;129;01min\u001b[39;00m ioargs.mode:\n\u001b[32m    872\u001b[39m         \u001b[38;5;66;03m# Encoding\u001b[39;00m\n\u001b[32m--> \u001b[39m\u001b[32m873\u001b[39m         handle = \u001b[38;5;28;43mopen\u001b[39;49m\u001b[43m(\u001b[49m\n\u001b[32m    874\u001b[39m \u001b[43m            \u001b[49m\u001b[43mhandle\u001b[49m\u001b[43m,\u001b[49m\n\u001b[32m    875\u001b[39m \u001b[43m            \u001b[49m\u001b[43mioargs\u001b[49m\u001b[43m.\u001b[49m\u001b[43mmode\u001b[49m\u001b[43m,\u001b[49m\n\u001b[32m    876\u001b[39m \u001b[43m            \u001b[49m\u001b[43mencoding\u001b[49m\u001b[43m=\u001b[49m\u001b[43mioargs\u001b[49m\u001b[43m.\u001b[49m\u001b[43mencoding\u001b[49m\u001b[43m,\u001b[49m\n\u001b[32m    877\u001b[39m \u001b[43m            \u001b[49m\u001b[43merrors\u001b[49m\u001b[43m=\u001b[49m\u001b[43merrors\u001b[49m\u001b[43m,\u001b[49m\n\u001b[32m    878\u001b[39m \u001b[43m            \u001b[49m\u001b[43mnewline\u001b[49m\u001b[43m=\u001b[49m\u001b[33;43m\"\u001b[39;49m\u001b[33;43m\"\u001b[39;49m\u001b[43m,\u001b[49m\n\u001b[32m    879\u001b[39m \u001b[43m        \u001b[49m\u001b[43m)\u001b[49m\n\u001b[32m    880\u001b[39m     \u001b[38;5;28;01melse\u001b[39;00m:\n\u001b[32m    881\u001b[39m         \u001b[38;5;66;03m# Binary mode\u001b[39;00m\n\u001b[32m    882\u001b[39m         handle = \u001b[38;5;28mopen\u001b[39m(handle, ioargs.mode)\n",
      "\u001b[31mFileNotFoundError\u001b[39m: [Errno 2] No such file or directory: '/data/day.csv'"
     ]
    }
   ],
   "source": [
    "bike_sharing_day_df = pd.read_csv(\"../data/day.csv\")\n",
    "bike_sharing_day_df.head()"
   ]
  },
  {
   "cell_type": "code",
   "execution_count": null,
   "metadata": {
    "colab": {
     "base_uri": "https://localhost:8080/",
     "height": 206
    },
    "id": "tFY_MDlWfhZy",
    "outputId": "d113458e-5cdd-4494-dbe7-53fc969647ef"
   },
   "outputs": [],
   "source": [
    "bike_sharing_hour_df=pd.read_csv(\"/data/hour.csv\")\n",
    "bike_sharing_hour_df.head()"
   ]
  },
  {
   "cell_type": "code",
   "execution_count": null,
   "metadata": {
    "colab": {
     "base_uri": "https://localhost:8080/",
     "height": 342
    },
    "id": "4mxjNGy__VPB",
    "outputId": "090c6b6a-b7d5-4dd2-b598-1e86d18e24e6"
   },
   "outputs": [],
   "source": [
    "bike_sharing_merge_df = pd.merge(\n",
    "    left=bike_sharing_day_df,\n",
    "    right=bike_sharing_hour_df,\n",
    "    how=\"inner\",\n",
    "    left_on=\"dteday\",\n",
    "    right_on=\"dteday\",\n",
    "    suffixes=(\"_daily\", \"_hourly\")\n",
    ")\n",
    "bike_sharing_merge_df.head()"
   ]
  },
  {
   "cell_type": "markdown",
   "metadata": {
    "id": "MMi6xGaDkbCi"
   },
   "source": [
    "**Insight:**\n",
    "- dteday antara bike sharing day dengan hour tidak ada perbedaan sehingga bisa dilakukan penggabungan 2 data frame"
   ]
  },
  {
   "cell_type": "markdown",
   "metadata": {
    "id": "FHSiqaZp8DC1"
   },
   "source": [
    "### Assessing Data"
   ]
  },
  {
   "cell_type": "code",
   "execution_count": null,
   "metadata": {
    "colab": {
     "base_uri": "https://localhost:8080/"
    },
    "id": "ax-3tEjc9Cj1",
    "outputId": "f9ecc38e-cca5-4123-c36f-3f70c81af444"
   },
   "outputs": [],
   "source": [
    "bike_sharing_day_df.info()"
   ]
  },
  {
   "cell_type": "code",
   "execution_count": null,
   "metadata": {
    "colab": {
     "base_uri": "https://localhost:8080/"
    },
    "id": "mocNWDdxgcZj",
    "outputId": "b3efbd82-4aba-4e6c-f8c4-2a20bdab6e15"
   },
   "outputs": [],
   "source": [
    "bike_sharing_hour_df.info()"
   ]
  },
  {
   "cell_type": "code",
   "execution_count": null,
   "metadata": {
    "colab": {
     "base_uri": "https://localhost:8080/",
     "height": 585
    },
    "id": "Zwm8DC22hz0x",
    "outputId": "71ca6f98-824e-4982-a9c0-e6ce8fb49e24"
   },
   "outputs": [],
   "source": [
    "bike_sharing_day_df.isna().sum()"
   ]
  },
  {
   "cell_type": "code",
   "execution_count": null,
   "metadata": {
    "colab": {
     "base_uri": "https://localhost:8080/",
     "height": 617
    },
    "id": "ngsl1eOjiF1r",
    "outputId": "325bfb07-d45a-4d44-92af-e766926cc89e"
   },
   "outputs": [],
   "source": [
    "bike_sharing_hour_df.isna().sum()"
   ]
  },
  {
   "cell_type": "code",
   "execution_count": null,
   "metadata": {
    "colab": {
     "base_uri": "https://localhost:8080/"
    },
    "id": "JsEw6w-9iOOs",
    "outputId": "f4d7a762-8291-450d-ade8-2be88cff7490"
   },
   "outputs": [],
   "source": [
    "bike_sharing_day_df.duplicated().sum()"
   ]
  },
  {
   "cell_type": "code",
   "execution_count": null,
   "metadata": {
    "colab": {
     "base_uri": "https://localhost:8080/"
    },
    "id": "kuQv_McEiRwi",
    "outputId": "08ae44c6-fed8-418e-8c3e-2bf9a01d72d8"
   },
   "outputs": [],
   "source": [
    "bike_sharing_hour_df.duplicated().sum()"
   ]
  },
  {
   "cell_type": "code",
   "execution_count": null,
   "metadata": {
    "colab": {
     "base_uri": "https://localhost:8080/",
     "height": 320
    },
    "id": "KRU9BetiigCP",
    "outputId": "b9cfb143-7276-4cd8-ab48-4655d26b4e72"
   },
   "outputs": [],
   "source": [
    "bike_sharing_day_df.describe()"
   ]
  },
  {
   "cell_type": "code",
   "execution_count": null,
   "metadata": {
    "colab": {
     "base_uri": "https://localhost:8080/",
     "height": 320
    },
    "id": "ZYmVXpDMip7B",
    "outputId": "a4e41f79-dd4f-4a89-9bf8-fab4f0af6de3"
   },
   "outputs": [],
   "source": [
    "bike_sharing_hour_df.describe()"
   ]
  },
  {
   "cell_type": "code",
   "execution_count": null,
   "metadata": {
    "colab": {
     "base_uri": "https://localhost:8080/",
     "height": 349
    },
    "id": "iRyfqw0k0rOU",
    "outputId": "eaeadb28-31da-43dc-e59f-08c6d7139baa"
   },
   "outputs": [],
   "source": [
    "bike_sharing_merge_df.describe()"
   ]
  },
  {
   "cell_type": "markdown",
   "metadata": {
    "id": "7dtxhAPrkhPL"
   },
   "source": [
    "**Insight:**\n",
    "- Tidak ada masalah pada jumlah data/ tidak ada missing value pada data bike sharing day dan hour\n",
    "- Tidak ada duplikasi nilai pada data bike sharing day dan hour\n",
    "- Kolom dteday pada bike sharing day dan hour harusnya direpresentasikan sebagai tipe data datetime bukan object\n",
    "- Nilai maximum temp_daily adalah 0.861667 dan nilai minimum 0.059130. Namun ini adalah hasil normalisasi dari suhu dalam skala Celsius agar skala datanya antara 0 dan 1. Jika dikonversi ke suhu aktual maka nilainya akan sekitar 32.5°C (maximum) dan  5.2 °C (minimum) .\n"
   ]
  },
  {
   "cell_type": "markdown",
   "metadata": {
    "id": "EhN5R4hr8DC1"
   },
   "source": [
    "### Cleaning Data"
   ]
  },
  {
   "cell_type": "code",
   "execution_count": null,
   "metadata": {
    "id": "jVnYpprE9Evz"
   },
   "outputs": [],
   "source": [
    "bike_sharing_day_df[\"dteday\"] = bike_sharing_day_df[\"dteday\"].apply(pd.to_datetime, format='%Y-%m-%d')\n",
    "bike_sharing_hour_df[\"dteday\"] = bike_sharing_hour_df[\"dteday\"].apply(pd.to_datetime, format='%Y-%m-%d')\n",
    "bike_sharing_merge_df['dteday'] = bike_sharing_merge_df['dteday'].apply(pd.to_datetime, format='%Y-%m-%d')\n"
   ]
  },
  {
   "cell_type": "code",
   "execution_count": null,
   "metadata": {
    "colab": {
     "base_uri": "https://localhost:8080/"
    },
    "id": "mtXI8e5HnLgW",
    "outputId": "ab919a1d-bbdd-49f5-e58b-f4c55f30a95c"
   },
   "outputs": [],
   "source": [
    "bike_sharing_day_df.info()"
   ]
  },
  {
   "cell_type": "code",
   "execution_count": null,
   "metadata": {
    "colab": {
     "base_uri": "https://localhost:8080/"
    },
    "id": "z9_56Z0JnOz3",
    "outputId": "3fdb9760-4251-45cb-9c2b-2ec9272dabb3"
   },
   "outputs": [],
   "source": [
    "bike_sharing_hour_df.info()"
   ]
  },
  {
   "cell_type": "code",
   "execution_count": null,
   "metadata": {
    "colab": {
     "base_uri": "https://localhost:8080/"
    },
    "id": "FkC7Bx-QDPFH",
    "outputId": "65af10fd-02ae-4497-a672-bfb522d71923"
   },
   "outputs": [],
   "source": [
    "bike_sharing_merge_df.info()"
   ]
  },
  {
   "cell_type": "markdown",
   "metadata": {
    "id": "gp-Y6wU38DC1"
   },
   "source": [
    "## Exploratory Data Analysis (EDA)"
   ]
  },
  {
   "cell_type": "markdown",
   "metadata": {
    "id": "MW7WF2kr8DC1"
   },
   "source": [
    "### Explore ..."
   ]
  },
  {
   "cell_type": "code",
   "execution_count": null,
   "metadata": {
    "colab": {
     "base_uri": "https://localhost:8080/"
    },
    "id": "SV63BDrlza2z",
    "outputId": "8928033f-cc6f-4b70-c048-9493a48795a3"
   },
   "outputs": [],
   "source": [
    "weather_cols = ['temp_daily', 'atemp_daily', 'hum_daily', 'windspeed_daily',\n",
    "                'temp_hourly', 'atemp_hourly', 'hum_hourly', 'windspeed_hourly',\n",
    "                'cnt_daily', 'cnt_hourly']\n",
    "corr_matrix = bike_sharing_merge_df[weather_cols].corr()\n",
    "daily_correlations = corr_matrix['cnt_daily'][['temp_daily', 'atemp_daily', 'hum_daily', 'windspeed_daily']]\n",
    "hourly_correlations = corr_matrix['cnt_hourly'][['temp_hourly', 'atemp_hourly', 'hum_hourly', 'windspeed_hourly']]\n",
    "print(\"Analisis Korelasi:\")\n",
    "print(\"Korelasi unsur cuaca antara cnt_daily dan cnt_hourly:\")\n",
    "print(daily_correlations)\n",
    "print(hourly_correlations)\n"
   ]
  },
  {
   "cell_type": "code",
   "execution_count": null,
   "metadata": {
    "colab": {
     "base_uri": "https://localhost:8080/"
    },
    "id": "qHVjQnVNCZtc",
    "outputId": "dd724e49-8ec9-48c0-810d-00c4cb0f27bf"
   },
   "outputs": [],
   "source": [
    "def convert_to_celsius(normalized_temp):\n",
    "    t_min = -8\n",
    "    t_max = 39\n",
    "    return normalized_temp * (t_max - t_min) + t_min\n",
    "print(\"\\n Konversi ke Suhu Celsius Asli \")\n",
    "print(\"\\nDataset Harian:\")\n",
    "print(f\"Suhu maksimum: {convert_to_celsius(bike_sharing_merge_df['temp_daily'].max()):.2f}°C\")\n",
    "print(f\"Suhu minimum: {convert_to_celsius(bike_sharing_merge_df['temp_daily'].min()):.2f}°C\")\n",
    "\n",
    "print(\"\\nDataset Jam:\")\n",
    "print(f\"Suhu maksimum: {convert_to_celsius(bike_sharing_merge_df['temp_hourly'].max()):.2f}°C\")\n",
    "print(f\"Suhu minimum: {convert_to_celsius(bike_sharing_merge_df['temp_hourly'].min()):.2f}°C\")"
   ]
  },
  {
   "cell_type": "code",
   "execution_count": null,
   "metadata": {
    "colab": {
     "base_uri": "https://localhost:8080/"
    },
    "id": "D1AoI2FRLet4",
    "outputId": "e7b80967-8ab7-4f4b-9a28-2a6dfc6f2585"
   },
   "outputs": [],
   "source": [
    "hour_correlations= bike_sharing_merge_df['cnt_hourly'].corr(bike_sharing_merge_df['hr'])\n",
    "print(\"Analisis Korelasi:\")\n",
    "print(\"Korelasi antara waktu dengan jumlah pengguna\")\n",
    "print (hour_correlations)"
   ]
  },
  {
   "cell_type": "code",
   "execution_count": null,
   "metadata": {
    "colab": {
     "base_uri": "https://localhost:8080/"
    },
    "id": "-sXFxD4aRK-d",
    "outputId": "cf8785ed-ebf5-4e60-ab3e-5c1dea0dbf37"
   },
   "outputs": [],
   "source": [
    "users_by_hour = bike_sharing_merge_df.groupby('hr')['cnt_hourly'].sum()\n",
    "\n",
    "max_users_hour = users_by_hour.idxmax()\n",
    "max_users_count = users_by_hour.max()\n",
    "min_users_hour = users_by_hour.idxmin()\n",
    "min_users_count = users_by_hour.min()\n",
    "\n",
    "print(f\"Jam dengan jumlah pengguna terbanyak: {max_users_hour}:00 dengan {max_users_count} pengguna\")\n",
    "print(f\"Jam dengan jumlah pengguna tersedikit: {min_users_hour}:00 dengan {min_users_count} pengguna\")"
   ]
  },
  {
   "cell_type": "markdown",
   "metadata": {
    "id": "th_Lzl2Fkj9O"
   },
   "source": [
    "**Insight:**\n",
    "- Analisis Mendalam Hubungan Cuaca dengan Pengguna Bike Sharing\n",
    "\n",
    "Ada 4 unsur pembentukan cuaca yang diukur/dicatat oleh peneliti yakni suhu, suhu yang dirasakan, kelembaban, dan kecepatan angin. Masing-masing dari 4 unsur ini kemudian dicari tahu korelasi/hubungan dengan jumlah pengguna rental sepeda (termasuk pengguna casual dan registered)\n",
    "1. Suhu (Temperature)\n",
    "\n",
    "Suhu memiliki korelasi paling signifikan dengan jumlah pengguna bike sharing.\n",
    "Pada dataset harian (daily), angka korelasi suhu dengan jumlah pengguna mencapai 0.6, sehingga menunjukan korelasi kuat terhadap orang yang melakukan rental sepeda. Demikian juga terhadap dataset hourly yang memiliki angka korelasi suhu dengan jumlah pengguna mencapai angka 0.4 sehingga menunjukan korelasi terhadap orang yang melakukan rental sepeda\n",
    "2. Suhu yang Dirasakan (Apparent Temperature)\n",
    "\n",
    "Hampir identik dengan korelasi suhu aktual. Suhu yang dirasakan memiliki korelasi dengan jumlah pengguna bike sharing.\n",
    "Pada dataset harian (daily), angka korelasi suhu dengan jumlah pengguna mencapai 0.6, sehingga menunjukan korelasi kuat terhadap orang yang melakukan rental sepeda. Demikian juga terhadap dataset hourly yang memiliki angka korelasi suhu dengan jumlah pengguna mencapai angka 0.4 sehingga menunjukan korelasi terhadap orang yang melakukan rental sepeda\n",
    "\n",
    "\n",
    "3. Kelembaban\n",
    "\n",
    "Pada dataset harian (daily), angka korelasi kelembaban dengan jumlah pengguna mencapai -0.09, sehingga menunjukan korelasi lemah terhadap orang yang melakukan rental sepeda. Demikian juga terhadap dataset hourly yang memiliki angka korelasi kelembaban dengan jumlah pengguna mencapai angka -0.3 sehingga menunjukan korelasi lemah terhadap orang yang melakukan rental sepeda\n",
    "\n",
    "4. Kecepatan Angin\n",
    "\n",
    "Pada dataset harian (daily), angka korelasi kecepatan angin dengan jumlah pengguna mencapai -0.2, sehingga menunjukan korelasi lemah terhadap orang yang melakukan rental sepeda. Namun pada dataset hourly memiliki angka korelasi kecepatan angin dengan jumlah pengguna mencapai angka 0.09 sehingga menunjukan ada sedikit korelasi terhadap orang yang melakukan rental sepeda.\n",
    "\n",
    "\n",
    "**Kesimpulan:**\n",
    "\n",
    "Suhu memiliki korelasi paling signifikan dengan jumlah pengguna bike sharing.\n",
    "- Analisis Mendalam Hubungan Waktu dengan Pengguna Bike Sharing\n",
    "\n",
    "Kolom waktu (hr) hanya terdapat pada dataset hour. Waktu (hr) memiliki korelasi positif terhadap jumlah pengguna bike sharing. Angka korelasi mencapai 0.4"
   ]
  },
  {
   "cell_type": "markdown",
   "metadata": {
    "id": "zsyZjqak8DC2"
   },
   "source": [
    "## Visualization & Explanatory Analysis"
   ]
  },
  {
   "cell_type": "markdown",
   "metadata": {
    "id": "HZxOiQ6n8DC2"
   },
   "source": [
    "### Pertanyaan 1:"
   ]
  },
  {
   "cell_type": "code",
   "execution_count": null,
   "metadata": {
    "colab": {
     "base_uri": "https://localhost:8080/",
     "height": 539
    },
    "id": "s84qFCcp-qLt",
    "outputId": "4f20583b-6965-431c-87b9-ebc96e5cc3a0"
   },
   "outputs": [],
   "source": [
    "# Visualisasi\n",
    "plt.figure(figsize=(16, 12))\n",
    "\n",
    "# Subplot 1: Line Chart Suhu Harian vs Jumlah Pengguna\n",
    "plt.subplot(2,2, 3)\n",
    "plt.scatter(bike_sharing_merge_df['temp_daily'], bike_sharing_merge_df['cnt_daily'], alpha=0.5)\n",
    "plt.xlabel('Suhu Harian')\n",
    "plt.ylabel('Jumlah Pengguna Harian')\n",
    "plt.title('Hubungan Suhu dengan Jumlah Pengguna Harian')\n",
    "\n",
    "# Subplot 2: Scatter Plot Suhu Jam vs Jumlah Pengguna\n",
    "plt.subplot(2, 2, 4)\n",
    "plt.scatter(bike_sharing_merge_df['temp_hourly'], bike_sharing_merge_df['cnt_hourly'], alpha=0.5, color='green')\n",
    "plt.xlabel('Suhu Jam')\n",
    "plt.ylabel('Jumlah Pengguna Per-Jam')\n",
    "plt.title('Hubungan Suhu dengan Jumlah Pengguna Per-Jam')\n"
   ]
  },
  {
   "cell_type": "code",
   "execution_count": null,
   "metadata": {
    "colab": {
     "base_uri": "https://localhost:8080/",
     "height": 539
    },
    "id": "nEaJwC3F42On",
    "outputId": "d62c06ac-68a2-408a-8671-5856c7064396"
   },
   "outputs": [],
   "source": [
    "# Visualisasi\n",
    "plt.figure(figsize=(16, 12))\n",
    "\n",
    "# Subplot 1: Line Chart Suhu Yang Dirasakan Harian vs Jumlah Pengguna\n",
    "plt.subplot(2,2, 3)\n",
    "plt.scatter(bike_sharing_merge_df['atemp_daily'], bike_sharing_merge_df['cnt_daily'], alpha=0.5)\n",
    "plt.xlabel('Daily Apparent Temperature')\n",
    "plt.ylabel('Daily Users')\n",
    "plt.title('Daily Apparent Temperature VS Daily Users')\n",
    "\n",
    "# Subplot 2: Scatter Plot Suhu Jam vs Jumlah Pengguna\n",
    "plt.subplot(2, 2, 4)\n",
    "plt.scatter(bike_sharing_merge_df['atemp_hourly'], bike_sharing_merge_df['cnt_hourly'], alpha=0.5, color='green')\n",
    "plt.xlabel('Hourly Apparent Temperature')\n",
    "plt.ylabel('Hourly Users ')\n",
    "plt.title('Hourly Apparent Temperature Jam VS Houry Users')"
   ]
  },
  {
   "cell_type": "markdown",
   "metadata": {
    "id": "DgHI7CiU8DC2"
   },
   "source": [
    "### Pertanyaan 2:"
   ]
  },
  {
   "cell_type": "code",
   "execution_count": null,
   "metadata": {
    "colab": {
     "base_uri": "https://localhost:8080/",
     "height": 489
    },
    "id": "1swJUdAD8DC2",
    "outputId": "1607bcd7-395b-4a90-c606-d469695dfa96"
   },
   "outputs": [],
   "source": [
    "sns.lineplot(x=users_by_hour.index, y=users_by_hour.values, marker='o', color='b')\n",
    "plt.title('Jumlah Penyewaan Berdasarkan Waktu')\n",
    "plt.xticks(range(0, 24))\n",
    "plt.xlabel('Time')\n",
    "plt.ylabel('Users')"
   ]
  },
  {
   "cell_type": "markdown",
   "metadata": {
    "id": "_0-36BDLklRg"
   },
   "source": [
    "**Insight:**\n",
    "- Jika suhu semakin hangat maka jumlah pengguna bike sharing akan meningkat\n",
    "- Puncak dari penyewaan sepeda terjadi pada jam-jam tertentu seperti pagi (sekitar jam 7-9) dan sore (sekitar jam 17-19), yang mana ini merupakan jam-jam sibuk sehingga banyak orang menggunakan sepeda untuk berangkat beraktivitas"
   ]
  },
  {
   "cell_type": "markdown",
   "metadata": {
    "id": "9y4VUsmcYNZ5"
   },
   "source": [
    "## Analisis Lanjutan (Opsional)"
   ]
  },
  {
   "cell_type": "markdown",
   "metadata": {
    "id": "sdxyys-w-sSp"
   },
   "source": [
    "**RFM**\n",
    "- Berapa hari sejak terakhir pengguna melakukan sewa sepeda di musim tersebut?\n",
    "- Berapa banyak hari dalam dataset yang termasuk dalam musim tersebut?\n",
    "- Total pengguna bike sharing dalam musim tersebut?\n",
    "\n",
    "**Tujuan :**\n",
    "mengetahui musim mana yang memiliki nilai tertinggi dari perspektif RFM sehingga dapat menentukan strategi bisnis yang tepat untuk setiap musim"
   ]
  },
  {
   "cell_type": "code",
   "execution_count": null,
   "metadata": {
    "colab": {
     "base_uri": "https://localhost:8080/"
    },
    "id": "B1sHwAI1JrLP",
    "outputId": "e2e159bc-8494-45b0-81fb-38138c2e244d"
   },
   "outputs": [],
   "source": [
    "season_map = {1: \"Spring\", 2: \"Summer\", 3: \"Fall\", 4: \"Winter\"}\n",
    "bike_sharing_merge_df['season_name'] = bike_sharing_merge_df['season_daily'].map(season_map)\n",
    "print(bike_sharing_merge_df['season_name'].head())"
   ]
  },
  {
   "cell_type": "code",
   "execution_count": null,
   "metadata": {
    "colab": {
     "base_uri": "https://localhost:8080/"
    },
    "id": "sjIE4lyDKKb1",
    "outputId": "13002ee3-6c17-414a-d1ac-e117456e46a6"
   },
   "outputs": [],
   "source": [
    "reference_date = bike_sharing_merge_df['dteday'].max()\n",
    "season_rfm = []\n",
    "\n",
    "for season_name, season_df in bike_sharing_merge_df.groupby(by='season_name'):\n",
    "    current_date = season_df['dteday'].max()\n",
    "\n",
    "    recency = (reference_date - current_date).days\n",
    "\n",
    "    frequency = season_df['dteday'].nunique()\n",
    "\n",
    "    monetary = season_df['cnt_daily'].sum()\n",
    "\n",
    "    season_rfm.append({\n",
    "        'season': season_name,\n",
    "        'recency': recency,\n",
    "        'frequency': frequency,\n",
    "        'monetary': monetary,\n",
    "    })\n",
    "\n",
    "season_rfm_df = pd.DataFrame(season_rfm)\n",
    "\n",
    "print(\"RFM Analysis by Season\")\n",
    "print(season_rfm_df)\n"
   ]
  },
  {
   "cell_type": "code",
   "execution_count": null,
   "metadata": {
    "colab": {
     "base_uri": "https://localhost:8080/"
    },
    "id": "qGhO8k1xT6Fn",
    "outputId": "84fa47f2-02b7-4002-b4d4-648c495e24ea"
   },
   "outputs": [],
   "source": [
    "season_rfm_df['r_score'] = pd.qcut(season_rfm_df['recency'], 5, labels=[5, 4, 3, 2, 1], duplicates='drop')\n",
    "season_rfm_df['f_score'] = pd.qcut(season_rfm_df['frequency'], 5, labels=[1, 2, 3, 4, 5], duplicates='drop')\n",
    "season_rfm_df['m_score'] = pd.qcut(season_rfm_df['monetary'], 5, labels=[1, 2, 3, 4, 5], duplicates='drop')\n",
    "\n",
    "print(season_rfm_df)"
   ]
  },
  {
   "cell_type": "code",
   "execution_count": null,
   "metadata": {
    "colab": {
     "base_uri": "https://localhost:8080/",
     "height": 1000
    },
    "id": "PqxtjuBbMfYA",
    "outputId": "445a857c-79d0-4cf7-ee68-13f97fb92144"
   },
   "outputs": [],
   "source": [
    "sns.set(style=\"whitegrid\")\n",
    "\n",
    "plt.figure(figsize=(10, 6))\n",
    "sns.barplot(x='season', y='recency', data=season_rfm_df, palette='coolwarm')\n",
    "plt.title('Recency by Season')\n",
    "plt.xlabel('Season')\n",
    "plt.ylabel('Recency (Days)')\n",
    "plt.xticks(rotation=45)\n",
    "plt.tight_layout()\n",
    "plt.show()\n",
    "\n",
    "plt.figure(figsize=(10, 6))\n",
    "sns.barplot(x='season', y='frequency', data=season_rfm_df, palette='viridis')\n",
    "plt.title('Frequency by Season')\n",
    "plt.xlabel('Season')\n",
    "plt.ylabel('Frequency (Number of Days)')\n",
    "plt.xticks(rotation=45)\n",
    "plt.tight_layout()\n",
    "plt.show()\n",
    "\n",
    "plt.figure(figsize=(10, 6))\n",
    "sns.barplot(x='season', y='monetary', data=season_rfm_df, palette='magma')\n",
    "plt.title('Monetary by Season')\n",
    "plt.xlabel('Season')\n",
    "plt.ylabel('Monetary (Total Rental Count)')\n",
    "plt.xticks(rotation=45)"
   ]
  },
  {
   "cell_type": "markdown",
   "metadata": {
    "id": "cgFyQZIfV2Mg"
   },
   "source": [
    "**Insight:**\n",
    "\n",
    "- Analisis RFM berdasarkan musim\n",
    "\n",
    "Skor R: 5 untuk yang paling baru (recency terendah)\n",
    "\n",
    "Skor F: 5 untuk frekuensi tertinggi\n",
    "\n",
    "Skor M: 5 untuk nilai rata-rata tertinggi\n",
    "\n",
    "Catatan : For recency, lower is better (more recent = higher score). For frequency and monetary, higher is better\n",
    "\n",
    "Dari hasil pemrosesan oleh sistem dapat diketahui bahwa musim (season) dengan recency (R) terendah adalah musim **SUMMER** artinya musim ini memiliki penyewaan paling baru, sementara untuk musim dengan recency (R) tertinggi ialah musim **SPRING** artinya musim ini memiliki rentang waktu sejak penyewaan terakhir (yaitu, hari penyewaan terakhir dalam musim tersebut) adalah yang paling lama dibandingkan dengan musim lainnya.\n",
    "\n",
    "Selanjutnya untuk musim (season) dengan frequency (F) terendah adalah musim **WINTER** artinya musim ini memiliki jumlah hari paling sedikit dimana pengguna melakukan rental sepeda , sementara untuk musim dengan frequency (F) tertinggi ialah musim **FALL** artinya musim ini memiliki jumlah hari paling banyak dimana pengguna melakukan rental sepeda.\n",
    "\n",
    "Terakhir adalah musim (season) dengan monetary (M) terendah adalah musim **SPRING** artinya musim ini memiliki jumlah pengguna bike sharing paling sedikit , sementara untuk musim dengan monetary (M) tertinggi ialah musim **FALL** artinya musim ini memiliki jumlah pengguna bike sharing paling banyak\n",
    "\n",
    "\n"
   ]
  },
  {
   "cell_type": "markdown",
   "metadata": {
    "id": "_WeHlCeX8DC2"
   },
   "source": [
    "## Conclusion"
   ]
  },
  {
   "cell_type": "markdown",
   "metadata": {
    "id": "ZTcyR48Y8DC2"
   },
   "source": [
    "- Dari 4 unsur pembentukan cuaca yang diukur/dicatat oleh peneliti yakni suhu, suhu yang dirasakan, kelembaban, dan kecepatan angin, suhu memiliki korelasi paling signifikan dengan jumlah pengguna bike sharing. Dibuktikan dengan jika suhu semakin hangat maka jumlah pengguna bike sharing akan meningkat\n",
    "- Waktu memiliki korelasi terhadap jumlah pengguna bike sharing. Dibuktikan puncak dari penyewaan sepeda terjadi pada jam-jam tertentu seperti pagi (sekitar jam 7-9) dan sore (sekitar jam 17-19), yang mana ini merupakan jam-jam sibuk sehingga banyak orang menggunakan sepeda untuk berangkat beraktivitas\n",
    "- Diperlukan perhatian khusus seperti strategi promosi bike sharing pada musim semi agar dapat menaikkan jumlah pengguna bike sharing. Lalu, yang menarik pada musim Dingin memiliki frekuensi terendah tetapi memiliki jumlah pendapatan yang lumayan. Sehingga mungkin dapat mencari cara untuk mempertahankan pelanggan melalui promosi yang ditargetkan seperti special winter offers. Pada musim panas jumlah penyewaan sepeda memiliki frekuensi tertinggi dan jumlah pendapatan yang solid. Perlu diperhatikan sebab jika suhu semakin hangat maka jumlah pengguna bike sharing dapat meningkat sehingga perlu memastikan stok sepeda yang cukup dan memberikan promosi atau penawaran dapat lebih meningkatkan revenue. Musim gugur memiliki jumlah revenue terbanyak dan jumlah pengguna terbanyak sehingga dapat melakukan strategi untuk melibatkan kembali pelanggan selama musim ini, seperti diskon untuk pelanggan sebelumnya atau penawaran khusus berdasarkan aktivitas sebelumnya."
   ]
  },
  {
   "cell_type": "code",
   "execution_count": null,
   "metadata": {
    "id": "eu0GNxYUcTwi"
   },
   "outputs": [],
   "source": [
    "bike_sharing_merge_df.to_csv('bike_sharing_merge_df.csv', index=False)"
   ]
  }
 ],
 "metadata": {
  "colab": {
   "provenance": []
  },
  "kernelspec": {
   "display_name": "Python 3 (ipykernel)",
   "language": "python",
   "name": "python3"
  },
  "language_info": {
   "codemirror_mode": {
    "name": "ipython",
    "version": 3
   },
   "file_extension": ".py",
   "mimetype": "text/x-python",
   "name": "python",
   "nbconvert_exporter": "python",
   "pygments_lexer": "ipython3",
   "version": "3.13.2"
  },
  "vscode": {
   "interpreter": {
    "hash": "972b3bf27e332e87b5379f2791f6ef9dfc79c71018c370b0d7423235e20fe4d7"
   }
  }
 },
 "nbformat": 4,
 "nbformat_minor": 4
}
